{
 "cells": [
  {
   "cell_type": "code",
   "execution_count": 1,
   "id": "97ee0d30",
   "metadata": {},
   "outputs": [],
   "source": [
    "def square(x):\n",
    "    \"\"\"Return the square of a number.\"\"\"\n",
    "    return x * x\n"
   ]
  },
  {
   "cell_type": "code",
   "execution_count": 2,
   "id": "430a7082",
   "metadata": {},
   "outputs": [
    {
     "data": {
      "text/plain": [
       "9"
      ]
     },
     "execution_count": 2,
     "metadata": {},
     "output_type": "execute_result"
    }
   ],
   "source": [
    "square(3)"
   ]
  },
  {
   "cell_type": "code",
   "execution_count": 3,
   "id": "b64faf93",
   "metadata": {},
   "outputs": [],
   "source": [
    "input = 10\n",
    "result = square(input)"
   ]
  },
  {
   "cell_type": "code",
   "execution_count": 4,
   "id": "631a6a18",
   "metadata": {},
   "outputs": [
    {
     "name": "stdout",
     "output_type": "stream",
     "text": [
      "The input was: 10\n",
      "The result is: 100\n"
     ]
    }
   ],
   "source": [
    "print(\"The input was:\", input)\n",
    "print(\"The result is:\", result)"
   ]
  },
  {
   "cell_type": "code",
   "execution_count": 5,
   "id": "28c6fa71",
   "metadata": {},
   "outputs": [],
   "source": [
    "# Trying to run this practice code with a new input number by changing the number above"
   ]
  }
 ],
 "metadata": {
  "kernelspec": {
   "display_name": "base",
   "language": "python",
   "name": "python3"
  },
  "language_info": {
   "codemirror_mode": {
    "name": "ipython",
    "version": 3
   },
   "file_extension": ".py",
   "mimetype": "text/x-python",
   "name": "python",
   "nbconvert_exporter": "python",
   "pygments_lexer": "ipython3",
   "version": "3.11.6"
  }
 },
 "nbformat": 4,
 "nbformat_minor": 5
}
