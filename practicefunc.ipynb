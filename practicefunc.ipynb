{
 "cells": [
  {
   "cell_type": "code",
   "execution_count": 6,
   "id": "97ee0d30",
   "metadata": {},
   "outputs": [],
   "source": [
    "def square_plus_square(x):\n",
    "    \"\"\"Return the sum of squares of a number.\"\"\"\n",
    "    return (x * x)*2\n"
   ]
  },
  {
   "cell_type": "code",
   "execution_count": 7,
   "id": "430a7082",
   "metadata": {},
   "outputs": [
    {
     "data": {
      "text/plain": [
       "18"
      ]
     },
     "execution_count": 7,
     "metadata": {},
     "output_type": "execute_result"
    }
   ],
   "source": [
    "square_plus_square(3)"
   ]
  },
  {
   "cell_type": "code",
   "execution_count": 12,
   "id": "b64faf93",
   "metadata": {},
   "outputs": [],
   "source": [
    "input = 3\n",
    "result = square_plus_square(input)"
   ]
  },
  {
   "cell_type": "code",
   "execution_count": 13,
   "id": "631a6a18",
   "metadata": {},
   "outputs": [
    {
     "name": "stdout",
     "output_type": "stream",
     "text": [
      "The input was: 3\n",
      "The result is: 18\n"
     ]
    }
   ],
   "source": [
    "print(\"The input was:\", input)\n",
    "print(\"The result is:\", result)"
   ]
  },
  {
   "cell_type": "code",
   "execution_count": 5,
   "id": "28c6fa71",
   "metadata": {},
   "outputs": [],
   "source": [
    "# Trying to run this practice code with a new input number by changing the number above"
   ]
  }
 ],
 "metadata": {
  "kernelspec": {
   "display_name": "base",
   "language": "python",
   "name": "python3"
  },
  "language_info": {
   "codemirror_mode": {
    "name": "ipython",
    "version": 3
   },
   "file_extension": ".py",
   "mimetype": "text/x-python",
   "name": "python",
   "nbconvert_exporter": "python",
   "pygments_lexer": "ipython3",
   "version": "3.11.6"
  }
 },
 "nbformat": 4,
 "nbformat_minor": 5
}
